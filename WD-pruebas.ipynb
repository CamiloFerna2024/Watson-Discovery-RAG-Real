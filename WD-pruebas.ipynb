{
 "cells": [
  {
   "cell_type": "code",
   "execution_count": 101,
   "metadata": {},
   "outputs": [
    {
     "name": "stdout",
     "output_type": "stream",
     "text": [
      "Requirement already satisfied: ibm-watson>=7.0.0 in /Library/Frameworks/Python.framework/Versions/3.12/lib/python3.12/site-packages (8.1.0)\n",
      "Requirement already satisfied: requests<3.0,>=2.0 in /Library/Frameworks/Python.framework/Versions/3.12/lib/python3.12/site-packages (from ibm-watson>=7.0.0) (2.31.0)\n",
      "Requirement already satisfied: python-dateutil>=2.5.3 in /Users/camiloantoniofernandezvelasquez/Library/Python/3.12/lib/python/site-packages (from ibm-watson>=7.0.0) (2.9.0.post0)\n",
      "Requirement already satisfied: websocket-client>=1.1.0 in /Library/Frameworks/Python.framework/Versions/3.12/lib/python3.12/site-packages (from ibm-watson>=7.0.0) (1.8.0)\n",
      "Requirement already satisfied: ibm-cloud-sdk-core==3.*,>=3.3.6 in /Library/Frameworks/Python.framework/Versions/3.12/lib/python3.12/site-packages (from ibm-watson>=7.0.0) (3.19.2)\n",
      "Requirement already satisfied: urllib3<3.0.0,>=2.1.0 in /Library/Frameworks/Python.framework/Versions/3.12/lib/python3.12/site-packages (from ibm-cloud-sdk-core==3.*,>=3.3.6->ibm-watson>=7.0.0) (2.2.1)\n",
      "Requirement already satisfied: PyJWT<3.0.0,>=2.8.0 in /Library/Frameworks/Python.framework/Versions/3.12/lib/python3.12/site-packages (from ibm-cloud-sdk-core==3.*,>=3.3.6->ibm-watson>=7.0.0) (2.8.0)\n",
      "Requirement already satisfied: six>=1.5 in /Users/camiloantoniofernandezvelasquez/Library/Python/3.12/lib/python/site-packages (from python-dateutil>=2.5.3->ibm-watson>=7.0.0) (1.16.0)\n",
      "Requirement already satisfied: charset-normalizer<4,>=2 in /Library/Frameworks/Python.framework/Versions/3.12/lib/python3.12/site-packages (from requests<3.0,>=2.0->ibm-watson>=7.0.0) (3.3.2)\n",
      "Requirement already satisfied: idna<4,>=2.5 in /Library/Frameworks/Python.framework/Versions/3.12/lib/python3.12/site-packages (from requests<3.0,>=2.0->ibm-watson>=7.0.0) (3.6)\n",
      "Requirement already satisfied: certifi>=2017.4.17 in /Library/Frameworks/Python.framework/Versions/3.12/lib/python3.12/site-packages (from requests<3.0,>=2.0->ibm-watson>=7.0.0) (2024.2.2)\n",
      "\n",
      "\u001b[1m[\u001b[0m\u001b[34;49mnotice\u001b[0m\u001b[1;39;49m]\u001b[0m\u001b[39;49m A new release of pip is available: \u001b[0m\u001b[31;49m24.2\u001b[0m\u001b[39;49m -> \u001b[0m\u001b[32;49m24.3.1\u001b[0m\n",
      "\u001b[1m[\u001b[0m\u001b[34;49mnotice\u001b[0m\u001b[1;39;49m]\u001b[0m\u001b[39;49m To update, run: \u001b[0m\u001b[32;49mpip install --upgrade pip\u001b[0m\n"
     ]
    }
   ],
   "source": [
    "!pip install --upgrade \"ibm-watson>=7.0.0\""
   ]
  },
  {
   "cell_type": "code",
   "execution_count": 186,
   "metadata": {},
   "outputs": [],
   "source": [
    "from ibm_watson import DiscoveryV2\n",
    "from ibm_cloud_sdk_core.authenticators import IAMAuthenticator\n",
    "from ibm_watson.discovery_v2 import DocumentAccepted\n",
    "\n",
    "authenticator = IAMAuthenticator('4Gry34KdonxmFpoPJBjxMPU82ast8EfhYNCspQ7Uew2U')\n",
    "discovery = DiscoveryV2(\n",
    "    version='2023-03-31',\n",
    "    authenticator=authenticator\n",
    ")\n",
    "\n",
    "discovery.set_service_url('https://api.us-south.discovery.watson.cloud.ibm.com/instances/c3d3914b-f608-4b69-ae3f-248c34cffc91')\n",
    "discovery.set_disable_ssl_verification(True)"
   ]
  },
  {
   "cell_type": "code",
   "execution_count": 187,
   "metadata": {},
   "outputs": [],
   "source": [
    "discovery.set_default_headers({'x-watson-learning-opt-out': \"true\"})"
   ]
  },
  {
   "cell_type": "code",
   "execution_count": 188,
   "metadata": {},
   "outputs": [
    {
     "name": "stderr",
     "output_type": "stream",
     "text": [
      "/Library/Frameworks/Python.framework/Versions/3.12/lib/python3.12/site-packages/urllib3/connectionpool.py:1103: InsecureRequestWarning: Unverified HTTPS request is being made to host 'api.us-south.discovery.watson.cloud.ibm.com'. Adding certificate verification is strongly advised. See: https://urllib3.readthedocs.io/en/latest/advanced-usage.html#tls-warnings\n",
      "  warnings.warn(\n"
     ]
    },
    {
     "name": "stdout",
     "output_type": "stream",
     "text": [
      "{\n",
      "    \"result\": {\n",
      "        \"collections\": [\n",
      "            {\n",
      "                \"name\": \"TGI-info\",\n",
      "                \"collection_id\": \"38ffead6-5888-d8a4-0000-0192e48f6b0b\"\n",
      "            }\n",
      "        ]\n",
      "    },\n",
      "    \"headers\": {\n",
      "        \"_store\": {\n",
      "            \"content-type\": [\n",
      "                \"Content-Type\",\n",
      "                \"application/json;charset=utf-8\"\n",
      "            ],\n",
      "            \"x-content-type-options\": [\n",
      "                \"x-content-type-options\",\n",
      "                \"nosniff\"\n",
      "            ],\n",
      "            \"x-xss-protection\": [\n",
      "                \"x-xss-protection\",\n",
      "                \"1; mode=block\"\n",
      "            ],\n",
      "            \"content-security-policy\": [\n",
      "                \"Content-Security-Policy\",\n",
      "                \"default-src 'none'\"\n",
      "            ],\n",
      "            \"access-control-allow-origin\": [\n",
      "                \"Access-Control-Allow-Origin\",\n",
      "                \"*\"\n",
      "            ],\n",
      "            \"access-control-allow-methods\": [\n",
      "                \"Access-Control-Allow-Methods\",\n",
      "                \"GET, PUT, POST, DELETE, OPTIONS, HEAD\"\n",
      "            ],\n",
      "            \"cache-control\": [\n",
      "                \"Cache-Control\",\n",
      "                \"no-cache, no-store, no-transform, max-age=0\"\n",
      "            ],\n",
      "            \"pragma\": [\n",
      "                \"Pragma\",\n",
      "                \"no-cache\"\n",
      "            ],\n",
      "            \"expires\": [\n",
      "                \"Expires\",\n",
      "                \"0\"\n",
      "            ],\n",
      "            \"content-language\": [\n",
      "                \"Content-Language\",\n",
      "                \"en-US\"\n",
      "            ],\n",
      "            \"strict-transport-security\": [\n",
      "                \"strict-transport-security\",\n",
      "                \"max-age=31536000; includeSubDomains;\"\n",
      "            ],\n",
      "            \"x-dp-watson-tran-id\": [\n",
      "                \"x-dp-watson-tran-id\",\n",
      "                \"16d2034c-629e-473b-8786-9a77de986677\"\n",
      "            ],\n",
      "            \"x-request-id\": [\n",
      "                \"x-request-id\",\n",
      "                \"16d2034c-629e-473b-8786-9a77de986677\"\n",
      "            ],\n",
      "            \"x-global-transaction-id\": [\n",
      "                \"x-global-transaction-id\",\n",
      "                \"16d2034c-629e-473b-8786-9a77de986677\"\n",
      "            ],\n",
      "            \"server\": [\n",
      "                \"Server\",\n",
      "                \"watson-gateway\"\n",
      "            ],\n",
      "            \"content-length\": [\n",
      "                \"Content-Length\",\n",
      "                \"117\"\n",
      "            ],\n",
      "            \"x-edgeconnect-midmile-rtt\": [\n",
      "                \"X-EdgeConnect-MidMile-RTT\",\n",
      "                \"72\"\n",
      "            ],\n",
      "            \"x-edgeconnect-origin-mex-latency\": [\n",
      "                \"X-EdgeConnect-Origin-MEX-Latency\",\n",
      "                \"554\"\n",
      "            ],\n",
      "            \"date\": [\n",
      "                \"Date\",\n",
      "                \"Tue, 05 Nov 2024 00:01:56 GMT\"\n",
      "            ],\n",
      "            \"connection\": [\n",
      "                \"Connection\",\n",
      "                \"keep-alive\"\n",
      "            ]\n",
      "        }\n",
      "    },\n",
      "    \"status_code\": 200\n",
      "}\n"
     ]
    }
   ],
   "source": [
    "project_id = '03e98201-291b-4f57-acc2-d6444557c656' #Identificador del proyecto con búscadores de laboratorio\n",
    "\n",
    "response = discovery.list_collections( #Listar las colecciones disponibles\n",
    "    project_id=project_id,\n",
    ")\n",
    "print(response)"
   ]
  },
  {
   "cell_type": "code",
   "execution_count": 197,
   "metadata": {},
   "outputs": [
    {
     "name": "stderr",
     "output_type": "stream",
     "text": [
      "/Library/Frameworks/Python.framework/Versions/3.12/lib/python3.12/site-packages/urllib3/connectionpool.py:1103: InsecureRequestWarning: Unverified HTTPS request is being made to host 'api.us-south.discovery.watson.cloud.ibm.com'. Adding certificate verification is strongly advised. See: https://urllib3.readthedocs.io/en/latest/advanced-usage.html#tls-warnings\n",
      "  warnings.warn(\n"
     ]
    },
    {
     "name": "stdout",
     "output_type": "stream",
     "text": [
      "{\n",
      "    \"matching_results\": 1,\n",
      "    \"retrieval_details\": {\n",
      "        \"document_retrieval_strategy\": \"untrained\"\n",
      "    },\n",
      "    \"results\": [\n",
      "        {\n",
      "            \"document_id\": \"4c25e141-170b-4392-b824-4fd096ac283e\",\n",
      "            \"result_metadata\": {\n",
      "                \"collection_id\": \"38ffead6-5888-d8a4-0000-0192e48f6b0b\",\n",
      "                \"document_retrieval_source\": \"search\",\n",
      "                \"confidence\": 0.08615\n",
      "            },\n",
      "            \"document_passages\": [\n",
      "                {\n",
      "                    \"passage_text\": \"Skip to content\\nSkip to search\\nSkip to footer\\nCisco.com Worldwide\\nProducts and Services\\nSolutions\\nSupport\\nLearn\\nExplore <em>Cisco</em>\\nHow to Buy\\nPartners Home\\nPartner Program\\nSupport\\nTools\\nFind a <em>Cisco</em> Partner\\nMeet our Partners\\nBecome a <em>Cisco</em> Partner\\nSupport\\nProduct Support\\nCollaboration Endpoints\\n<em>Cisco</em> Room Series\\nInstall and Upgrade TechNotes\\nHow do I upgrade and downgrade Cloud-Registered <em>Cisco</em> Endpoints on Room OS?\",\n",
      "                    \"start_offset\": 0,\n",
      "                    \"end_offset\": 414,\n",
      "                    \"field\": \"text\"\n",
      "                },\n",
      "                {\n",
      "                    \"passage_text\": \"Related Information\\nRoomOS Software Upgrade Channels in Control Hub\\nRoomOS Documentation\\nRoomOS Release Notes Documentation\\nSoftware packages for all Endpoints\\nRevision History\\nRevision\\nPublish Date\\nComments\\n1.0\\n15-Feb-2024\\nInitial Release\\nContributed by <em>Cisco</em> Engineers\\nPetros Sitaras\\nTechnical Consulting Engineer\\nWas this Document Helpful?\\nYes\\nNo\\nFeedback\\nContact <em>Cisco</em>\\nOpen a Support Case\\n(Requires a \\n<em>Cisco</em> Service Contract\\n)\\nThis Document Applies to These Products\\nRoom Series\",\n",
      "                    \"start_offset\": 13600,\n",
      "                    \"end_offset\": 14082,\n",
      "                    \"field\": \"text\"\n",
      "                },\n",
      "                {\n",
      "                    \"passage_text\": \"How do I upgrade and downgrade Cloud-Registered <em>Cisco</em> Endpoints on Room OS? - <em>Cisco</em>\",\n",
      "                    \"start_offset\": 0,\n",
      "                    \"end_offset\": 83,\n",
      "                    \"field\": \"title\"\n",
      "                }\n",
      "            ]\n",
      "        }\n",
      "    ]\n",
      "}\n"
     ]
    }
   ],
   "source": [
    "collection_id = \"38ffead6-5888-d8a4-0000-0192e48f6b0b\"\n",
    "tema = \"Camara cisco\"\n",
    "subtema = \"soporte de camara\"\n",
    "import json\n",
    "Pasajes_D = 3\n",
    "N_respuestas = 3\n",
    "response = discovery.query(\n",
    "    project_id=project_id,\n",
    "    filter = f\"metadata.tema:{tema},metadata.subtemas:{subtema}\",  # Uso de f-string para mayor claridad\n",
    "    natural_language_query='¿Cómo puedo hacer la actualización del fimware de mi cámara CISCO?',  # Consulta relacionada\n",
    "    count=N_respuestas,\n",
    "    highlight=True,\n",
    "    return_=[\"document_passages\"],\n",
    "    passages={  # Usar un diccionario para `passages`\n",
    "        \"enabled\": True,\n",
    "        \"per_document\": True,\n",
    "        \"max_per_document\": Pasajes_D,\n",
    "        \"characters\": 250\n",
    "    }\n",
    ").get_result()\n",
    "\n",
    "datos1 = str(json.dumps(response, indent=2))\n",
    "datos2 = json.loads(datos1)\n",
    "print(json.dumps(response, indent=4))"
   ]
  },
  {
   "cell_type": "code",
   "execution_count": 50,
   "metadata": {},
   "outputs": [
    {
     "name": "stderr",
     "output_type": "stream",
     "text": [
      "/Library/Frameworks/Python.framework/Versions/3.12/lib/python3.12/site-packages/urllib3/connectionpool.py:1103: InsecureRequestWarning: Unverified HTTPS request is being made to host 'api.us-south.discovery.watson.cloud.ibm.com'. Adding certificate verification is strongly advised. See: https://urllib3.readthedocs.io/en/latest/advanced-usage.html#tls-warnings\n",
      "  warnings.warn(\n"
     ]
    },
    {
     "name": "stdout",
     "output_type": "stream",
     "text": [
      "{\n",
      "  \"enrichments\": [\n",
      "    {\n",
      "      \"enrichment_id\": \"701db916-fc83-57ab-0000-000000000002\",\n",
      "      \"name\": \"Part of Speech\",\n",
      "      \"type\": \"part_of_speech\",\n",
      "      \"description\": \"Extract words and phrases from unstructured content and mark these extractions as annotations.\"\n",
      "    },\n",
      "    {\n",
      "      \"enrichment_id\": \"701db916-fc83-57ab-0000-000000000017\",\n",
      "      \"name\": \"Entities v1 legacy\",\n",
      "      \"type\": \"natural_language_understanding\",\n",
      "      \"description\": \"Extract named entities from each document with v1 type system\"\n",
      "    },\n",
      "    {\n",
      "      \"enrichment_id\": \"07dc2ea6-7bc5-851e-0000-0192df2d6531\",\n",
      "      \"name\": \"Correo electronico\",\n",
      "      \"type\": \"dictionary\",\n",
      "      \"description\": null\n",
      "    },\n",
      "    {\n",
      "      \"enrichment_id\": \"2cf711b9-424c-affb-0000-0192e2160978\",\n",
      "      \"name\": \"Categorias1 - v1.0\",\n",
      "      \"type\": \"classifier\",\n",
      "      \"description\": null\n",
      "    },\n",
      "    {\n",
      "      \"enrichment_id\": \"2cf711b9-424c-affb-0000-0192e23838b8\",\n",
      "      \"name\": \"PRUEBA - v1.0\",\n",
      "      \"type\": \"classifier\",\n",
      "      \"description\": null\n",
      "    },\n",
      "    {\n",
      "      \"enrichment_id\": \"701db916-fc83-57ab-0000-000000000012\",\n",
      "      \"name\": \"Table Understanding\",\n",
      "      \"type\": \"rule_based\",\n",
      "      \"description\": \"Understand tabular data in HTML via understanding of each table's column headers, row headers, body cells, as well as relevant context and title\"\n",
      "    },\n",
      "    {\n",
      "      \"enrichment_id\": \"701db916-fc83-57ab-0000-000000000018\",\n",
      "      \"name\": \"Keywords\",\n",
      "      \"type\": \"natural_language_understanding\",\n",
      "      \"description\": \"Extract keywords from each document\"\n",
      "    },\n",
      "    {\n",
      "      \"enrichment_id\": \"701db916-fc83-57ab-0000-000000000016\",\n",
      "      \"name\": \"Sentiment of Document\",\n",
      "      \"type\": \"natural_language_understanding\",\n",
      "      \"description\": \"Predict document-level sentiment\"\n",
      "    },\n",
      "    {\n",
      "      \"enrichment_id\": \"701db916-fc83-57ab-0000-00000000001e\",\n",
      "      \"name\": \"Entities v2\",\n",
      "      \"type\": \"natural_language_understanding\",\n",
      "      \"description\": \"Extract named entities from each document with v2 type system\"\n",
      "    },\n",
      "    {\n",
      "      \"enrichment_id\": \"701db916-fc83-57ab-0000-000000000004\",\n",
      "      \"name\": \"Sentiment of Phrases\",\n",
      "      \"type\": \"sentiment\",\n",
      "      \"description\": \"Extract phrases and expressions which convey sentiment.\"\n",
      "    }\n",
      "  ]\n",
      "}\n"
     ]
    }
   ],
   "source": [
    "response = discovery.list_enrichments(\n",
    "  project_id=project_id\n",
    ").get_result()\n",
    "print(json.dumps(response, indent=2))"
   ]
  },
  {
   "cell_type": "code",
   "execution_count": 51,
   "metadata": {},
   "outputs": [
    {
     "name": "stderr",
     "output_type": "stream",
     "text": [
      "/Library/Frameworks/Python.framework/Versions/3.12/lib/python3.12/site-packages/urllib3/connectionpool.py:1103: InsecureRequestWarning: Unverified HTTPS request is being made to host 'api.us-south.discovery.watson.cloud.ibm.com'. Adding certificate verification is strongly advised. See: https://urllib3.readthedocs.io/en/latest/advanced-usage.html#tls-warnings\n",
      "  warnings.warn(\n"
     ]
    },
    {
     "name": "stdout",
     "output_type": "stream",
     "text": [
      "{\n",
      "  \"enrichment_id\": \"2cf711b9-424c-affb-0000-0192e2160978\",\n",
      "  \"name\": \"Categorias1 - v1.0\",\n",
      "  \"type\": \"classifier\",\n",
      "  \"description\": null,\n",
      "  \"options\": {\n",
      "    \"classifier_id\": \"07dc2ea6-7bc5-851e-0000-0192e21600b5\",\n",
      "    \"model_id\": \"2cf711b9-424c-affb-0000-0192e216095d\"\n",
      "  }\n",
      "}\n"
     ]
    }
   ],
   "source": [
    "response = discovery.get_enrichment(\n",
    "  project_id=project_id,\n",
    "  enrichment_id = \"2cf711b9-424c-affb-0000-0192e2160978\"\n",
    ").get_result()\n",
    "print(json.dumps(response, indent=2))"
   ]
  },
  {
   "cell_type": "code",
   "execution_count": 91,
   "metadata": {},
   "outputs": [
    {
     "name": "stderr",
     "output_type": "stream",
     "text": [
      "/Library/Frameworks/Python.framework/Versions/3.12/lib/python3.12/site-packages/urllib3/connectionpool.py:1103: InsecureRequestWarning: Unverified HTTPS request is being made to host 'api.us-south.discovery.watson.cloud.ibm.com'. Adding certificate verification is strongly advised. See: https://urllib3.readthedocs.io/en/latest/advanced-usage.html#tls-warnings\n",
      "  warnings.warn(\n"
     ]
    },
    {
     "name": "stdout",
     "output_type": "stream",
     "text": [
      "{\n",
      "  \"name\": \"Documentos originales\",\n",
      "  \"collection_id\": \"fb19efd5-0cf1-b46b-0000-0192e2bc4a74\",\n",
      "  \"description\": \"\",\n",
      "  \"created\": \"2024-10-31T13:20:44.787Z\",\n",
      "  \"language\": \"es\",\n",
      "  \"enrichments\": [],\n",
      "  \"smart_document_understanding\": {\n",
      "    \"enabled\": true,\n",
      "    \"model\": \"text_extraction\"\n",
      "  },\n",
      "  \"source_document_counts\": {\n",
      "    \"pending\": 0,\n",
      "    \"processing\": 0,\n",
      "    \"available\": 0,\n",
      "    \"failed\": 0\n",
      "  },\n",
      "  \"document_counts\": {\n",
      "    \"processing\": 0,\n",
      "    \"available\": 0,\n",
      "    \"failed\": 0\n",
      "  }\n",
      "}\n"
     ]
    }
   ],
   "source": [
    "response = discovery.get_collection(\n",
    "  project_id=project_id,\n",
    "  collection_id=collection_id\n",
    ").get_result()\n",
    "print(json.dumps(response, indent=2))"
   ]
  },
  {
   "cell_type": "code",
   "execution_count": 92,
   "metadata": {},
   "outputs": [
    {
     "name": "stderr",
     "output_type": "stream",
     "text": [
      "/Library/Frameworks/Python.framework/Versions/3.12/lib/python3.12/site-packages/urllib3/connectionpool.py:1103: InsecureRequestWarning: Unverified HTTPS request is being made to host 'api.us-south.discovery.watson.cloud.ibm.com'. Adding certificate verification is strongly advised. See: https://urllib3.readthedocs.io/en/latest/advanced-usage.html#tls-warnings\n",
      "  warnings.warn(\n"
     ]
    }
   ],
   "source": [
    "response = discovery.create_collection(\n",
    "    project_id = project_id,\n",
    "    name = \"TGI-info\",\n",
    "    ocr_enabled = True,\n",
    "    language='es'\n",
    ").get_result()"
   ]
  },
  {
   "cell_type": "code",
   "execution_count": 100,
   "metadata": {},
   "outputs": [
    {
     "name": "stderr",
     "output_type": "stream",
     "text": [
      "/Library/Frameworks/Python.framework/Versions/3.12/lib/python3.12/site-packages/urllib3/connectionpool.py:1103: InsecureRequestWarning: Unverified HTTPS request is being made to host 'api.us-south.discovery.watson.cloud.ibm.com'. Adding certificate verification is strongly advised. See: https://urllib3.readthedocs.io/en/latest/advanced-usage.html#tls-warnings\n",
      "  warnings.warn(\n"
     ]
    },
    {
     "name": "stdout",
     "output_type": "stream",
     "text": [
      "{\n",
      "  \"document_id\": \"7871efdb-52f0-4031-b237-e2442d1d43ea\",\n",
      "  \"status\": \"pending\"\n",
      "}\n"
     ]
    }
   ],
   "source": [
    "metadata = {\n",
    "    \"tema\": \"Cambio de contraseña\",\n",
    "    \"subtemas\": \"Outlook, microsoft 365, VPN Forticlient\"\n",
    "    # Agrega más metadatos según sea necesario\n",
    "}\n",
    "\n",
    "with open(os.path.join(os.getcwd(), '/Users/camiloantoniofernandezvelasquez/Documents/Clientes/Colombia/TGI/Documentos/Soporte nivel 1', 'Procedimiento Cambio De Contraseña de RED_TGI_V2.docx'),'rb') as fileinfo:\n",
    "  response = discovery.add_document(\n",
    "    project_id=project_id,\n",
    "    collection_id=collection_id,\n",
    "    file=fileinfo,\n",
    "    filename='Procedimiento Cambio De Contraseña de RED_TGI_V2.docx',\n",
    "    file_content_type='application/pdf',\n",
    "    metadata=json.dumps(metadata)  # Convierte los metadatos a JSON\n",
    "  ).get_result()\n",
    "  print(json.dumps(response, indent=2))"
   ]
  },
  {
   "cell_type": "code",
   "execution_count": 158,
   "metadata": {},
   "outputs": [],
   "source": [
    "doc = \"GOBERNANZA[1].pdf\""
   ]
  },
  {
   "cell_type": "code",
   "execution_count": 159,
   "metadata": {},
   "outputs": [
    {
     "name": "stderr",
     "output_type": "stream",
     "text": [
      "/Library/Frameworks/Python.framework/Versions/3.12/lib/python3.12/site-packages/urllib3/connectionpool.py:1103: InsecureRequestWarning: Unverified HTTPS request is being made to host 'api.us-south.discovery.watson.cloud.ibm.com'. Adding certificate verification is strongly advised. See: https://urllib3.readthedocs.io/en/latest/advanced-usage.html#tls-warnings\n",
      "  warnings.warn(\n"
     ]
    },
    {
     "name": "stdout",
     "output_type": "stream",
     "text": [
      "{\n",
      "  \"document_id\": \"dcec0c33-7111-49a5-a369-44ccbf7e806f\",\n",
      "  \"status\": \"pending\"\n",
      "}\n"
     ]
    }
   ],
   "source": [
    "metadata = {\n",
    "    \"tema\": \"Contratistas y proveedores\",\n",
    "    \"subtemas\": \"MANUAL HSEQ y SOCIAL PARA CONTRATISTAS Y PROVEEDORES\"\n",
    "    # Agrega más metadatos según sea necesario\n",
    "}\n",
    "\n",
    "with open(os.path.join(os.getcwd(), '/Users/camiloantoniofernandezvelasquez/Documents/Clientes/Colombia/TGI/Documentos/Soporte nivel 1', doc),'rb') as fileinfo:\n",
    "  response = discovery.add_document(\n",
    "    project_id=project_id,\n",
    "    collection_id=collection_id,\n",
    "    file=fileinfo,\n",
    "    filename=doc,\n",
    "    file_content_type='application/pdf',\n",
    "    metadata=json.dumps(metadata)  # Convierte los metadatos a JSON\n",
    "  ).get_result()\n",
    "  print(json.dumps(response, indent=2))"
   ]
  },
  {
   "cell_type": "code",
   "execution_count": 114,
   "metadata": {},
   "outputs": [
    {
     "name": "stderr",
     "output_type": "stream",
     "text": [
      "/Library/Frameworks/Python.framework/Versions/3.12/lib/python3.12/site-packages/urllib3/connectionpool.py:1103: InsecureRequestWarning: Unverified HTTPS request is being made to host 'api.us-south.discovery.watson.cloud.ibm.com'. Adding certificate verification is strongly advised. See: https://urllib3.readthedocs.io/en/latest/advanced-usage.html#tls-warnings\n",
      "  warnings.warn(\n"
     ]
    },
    {
     "name": "stdout",
     "output_type": "stream",
     "text": [
      "{\n",
      "  \"document_id\": \"14b08c69-3819-454f-ae19-58c1702c3b44\",\n",
      "  \"status\": \"pending\"\n",
      "}\n"
     ]
    }
   ],
   "source": [
    "metadata = {\n",
    "    \"tema\": \"Doble autenticacion\",\n",
    "    \"subtemas\": \"Outlook\"\n",
    "    # Agrega más metadatos según sea necesario\n",
    "}\n",
    "\n",
    "with open(os.path.join(os.getcwd(), '/Users/camiloantoniofernandezvelasquez/Documents/Clientes/Colombia/TGI/Documentos/Soporte nivel 1', 'Activación de doble factor de autenticación Microsoft365V2.docx'),'rb') as fileinfo:\n",
    "  response = discovery.add_document(\n",
    "    project_id=project_id,\n",
    "    collection_id=collection_id,\n",
    "    file=fileinfo,\n",
    "    filename=doc,\n",
    "    file_content_type='application/vnd.openxmlformats-officedocument.wordprocessingml.document',\n",
    "    metadata=json.dumps(metadata)  # Convierte los metadatos a JSON\n",
    "  ).get_result()\n",
    "  print(json.dumps(response, indent=2))"
   ]
  },
  {
   "cell_type": "markdown",
   "metadata": {},
   "source": [
    "Web crawl"
   ]
  },
  {
   "cell_type": "code",
   "execution_count": 142,
   "metadata": {},
   "outputs": [
    {
     "name": "stderr",
     "output_type": "stream",
     "text": [
      "/Library/Frameworks/Python.framework/Versions/3.12/lib/python3.12/site-packages/urllib3/connectionpool.py:1103: InsecureRequestWarning: Unverified HTTPS request is being made to host 'api.us-south.discovery.watson.cloud.ibm.com'. Adding certificate verification is strongly advised. See: https://urllib3.readthedocs.io/en/latest/advanced-usage.html#tls-warnings\n",
      "  warnings.warn(\n"
     ]
    },
    {
     "name": "stdout",
     "output_type": "stream",
     "text": [
      "Contenido: <_io.BufferedReader name='/var/folders/96/gbxqxpmd4n98qvzsg_tzs4_w0000gn/T/tmpm9pt9xt7.html'>\n",
      "Document added: 52f16e3d-bd80-47ae-aed0-01fb50d79c50\n"
     ]
    }
   ],
   "source": [
    "import requests\n",
    "import tempfile\n",
    "import os\n",
    "from bs4 import BeautifulSoup\n",
    "from ibm_watson import DiscoveryV1\n",
    "from ibm_cloud_sdk_core.authenticators import IAMAuthenticator\n",
    "\n",
    "metadata = {\n",
    "    \"tema\": \"Configuracion de correo\",\n",
    "    \"subtemas\": \"Outlook, ios\"\n",
    "    # Agrega más metadatos según sea necesario\n",
    "}\n",
    "\n",
    "# ... (rest of the code remains the same)\n",
    "def crawl_website(url):\n",
    "    try:\n",
    "        # Obtener el contenido HTML de la página web\n",
    "        response = requests.get(url)\n",
    "        response.raise_for_status()  # Esto lanza una excepción si la solicitud no fue exitosa\n",
    "        soup = BeautifulSoup(response.content, 'html.parser')\n",
    "        # Crear un archivo temporal con el contenido HTML\n",
    "        with tempfile.NamedTemporaryFile(delete=False, suffix='.html') as temp_file:\n",
    "            temp_file.write(response.content)\n",
    "            temp_file_name = temp_file.name\n",
    "\n",
    "        # Subir el archivo a Watson Discovery\n",
    "        with open(temp_file_name, 'rb') as file_data:\n",
    "            add_doc_response = discovery.add_document(\n",
    "                project_id=project_id, \n",
    "                collection_id=collection_id, \n",
    "                file=file_data,\n",
    "                filename=temp_file_name,\n",
    "                file_content_type='text/html',\n",
    "                metadata=json.dumps(metadata)  # Convierte los metadatos a JSON\n",
    "            ).get_result()\n",
    "            print(f'Contenido: {file_data}')\n",
    "\n",
    "        print(f'Document added: {add_doc_response[\"document_id\"]}')\n",
    "\n",
    "        # Eliminar el archivo temporal\n",
    "        os.remove(temp_file_name)\n",
    "        return\n",
    "    \n",
    "    except requests.exceptions.RequestException as e:\n",
    "        print(f\"Request error: {e}\")\n",
    "    except Exception as e:\n",
    "        print(f\"An error occurred: {e}\")\n",
    "\n",
    "\n",
    "# Define the web page to crawl\n",
    "url = \"https://support.microsoft.com/es-es/office/configurar-la-aplicaci%C3%B3n-de-outlook-para-ios-b2de2161-cc1d-49ef-9ef9-81acd1c8e234\"\n",
    "crawl_website(url)"
   ]
  },
  {
   "cell_type": "code",
   "execution_count": null,
   "metadata": {},
   "outputs": [],
   "source": []
  }
 ],
 "metadata": {
  "kernelspec": {
   "display_name": "Python 3",
   "language": "python",
   "name": "python3"
  },
  "language_info": {
   "codemirror_mode": {
    "name": "ipython",
    "version": 3
   },
   "file_extension": ".py",
   "mimetype": "text/x-python",
   "name": "python",
   "nbconvert_exporter": "python",
   "pygments_lexer": "ipython3",
   "version": "3.12.2"
  }
 },
 "nbformat": 4,
 "nbformat_minor": 2
}
